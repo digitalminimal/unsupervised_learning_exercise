{
  "nbformat": 4,
  "nbformat_minor": 0,
  "metadata": {
    "kernelspec": {
      "display_name": "Python 3",
      "language": "python",
      "name": "python3"
    },
    "language_info": {
      "codemirror_mode": {
        "name": "ipython",
        "version": 3
      },
      "file_extension": ".py",
      "mimetype": "text/x-python",
      "name": "python",
      "nbconvert_exporter": "python",
      "pygments_lexer": "ipython3",
      "version": "3.7.9"
    },
    "toc": {
      "base_numbering": 1,
      "nav_menu": {},
      "number_sections": true,
      "sideBar": true,
      "skip_h1_title": false,
      "title_cell": "Table of Contents",
      "title_sidebar": "Contents",
      "toc_cell": false,
      "toc_position": {},
      "toc_section_display": true,
      "toc_window_display": false
    },
    "varInspector": {
      "cols": {
        "lenName": 16,
        "lenType": 16,
        "lenVar": 40
      },
      "kernels_config": {
        "python": {
          "delete_cmd_postfix": "",
          "delete_cmd_prefix": "del ",
          "library": "var_list.py",
          "varRefreshCmd": "print(var_dic_list())"
        },
        "r": {
          "delete_cmd_postfix": ") ",
          "delete_cmd_prefix": "rm(",
          "library": "var_list.r",
          "varRefreshCmd": "cat(var_dic_list()) "
        }
      },
      "types_to_exclude": [
        "module",
        "function",
        "builtin_function_or_method",
        "instance",
        "_Feature"
      ],
      "window_display": false
    },
    "colab": {
      "name": "hierarchical_models_exercise-checkpoint.ipynb",
      "provenance": []
    }
  },
  "cells": [
    {
      "cell_type": "markdown",
      "metadata": {
        "id": "pyxP3XCAtMBb"
      },
      "source": [
        "## Hierachical Models Assignment"
      ]
    },
    {
      "cell_type": "code",
      "metadata": {
        "ExecuteTime": {
          "end_time": "2020-04-23T18:51:13.194632Z",
          "start_time": "2020-04-23T18:51:11.837875Z"
        },
        "id": "5qQNqiRotMBd"
      },
      "source": [
        "# import pandas\n",
        "import pandas as pd\n",
        "\n",
        "# import Agglomerative clustering\n",
        "from sklearn.cluster import AgglomerativeClustering\n",
        "\n",
        "# import scipy.cluster.hierarchy\n",
        "import scipy.cluster.hierarchy as sch\n",
        "\n",
        "# import numpy\n",
        "import numpy as np\n",
        "\n",
        "# import matplotlib\n",
        "import matplotlib.pyplot as plt\n",
        "\n",
        "# set figure size\n",
        "plt.rcParams[\"figure.figsize\"] = (12,8)"
      ],
      "execution_count": null,
      "outputs": []
    },
    {
      "cell_type": "code",
      "metadata": {
        "ExecuteTime": {
          "end_time": "2020-04-23T18:51:13.348834Z",
          "start_time": "2020-04-23T18:51:13.230513Z"
        },
        "id": "OpbC6223tMBe"
      },
      "source": [
        "# Load dataframe\n",
        "df = pd.read_csv('https://raw.githubusercontent.com/lucko515/clustering-python/master/Customer%20in%20Mall%20clusterng/Mall_Customers.csv')"
      ],
      "execution_count": null,
      "outputs": []
    },
    {
      "cell_type": "markdown",
      "metadata": {
        "id": "yABgSSJ0tMBe"
      },
      "source": [
        "## Objective: \n",
        "\n",
        "- Fit Hierarchical clustering, \n",
        "- find optimal number of clusters via dendrogram \n",
        "- and plot clusters. \n",
        "\n",
        "Again, to simplify plotting in 2-D, we can create clustering model based on the last two columns of the dataset only."
      ]
    },
    {
      "cell_type": "code",
      "metadata": {
        "id": "2rWYItcAtMBe"
      },
      "source": [
        ""
      ],
      "execution_count": null,
      "outputs": []
    },
    {
      "cell_type": "markdown",
      "metadata": {
        "id": "VgwB89cgtMBe"
      },
      "source": [
        "* define function plot_dendogram"
      ]
    },
    {
      "cell_type": "code",
      "metadata": {
        "ExecuteTime": {
          "end_time": "2020-04-23T18:52:43.800888Z",
          "start_time": "2020-04-23T18:52:43.794834Z"
        },
        "id": "warMwtBQtMBe"
      },
      "source": [
        ""
      ],
      "execution_count": null,
      "outputs": []
    },
    {
      "cell_type": "markdown",
      "metadata": {
        "id": "mJn-kmsStMBf"
      },
      "source": [
        "* Plot dendrogram"
      ]
    },
    {
      "cell_type": "code",
      "metadata": {
        "ExecuteTime": {
          "end_time": "2020-04-23T18:52:48.553885Z",
          "start_time": "2020-04-23T18:52:44.239679Z"
        },
        "id": "YYfLWv3QtMBf"
      },
      "source": [
        ""
      ],
      "execution_count": null,
      "outputs": []
    },
    {
      "cell_type": "markdown",
      "metadata": {
        "id": "ZVd1XirOtMBf"
      },
      "source": [
        "* Fit Hierarchical clustering with optimal number of clusters"
      ]
    },
    {
      "cell_type": "code",
      "metadata": {
        "ExecuteTime": {
          "end_time": "2020-04-23T18:52:48.669436Z",
          "start_time": "2020-04-23T18:52:48.655901Z"
        },
        "id": "xzCc-59xtMBg"
      },
      "source": [
        ""
      ],
      "execution_count": null,
      "outputs": []
    },
    {
      "cell_type": "markdown",
      "metadata": {
        "id": "rmig5c2QtMBg"
      },
      "source": [
        "* define function plot_clusters"
      ]
    },
    {
      "cell_type": "code",
      "metadata": {
        "ExecuteTime": {
          "end_time": "2020-02-19T09:11:35.121447Z",
          "start_time": "2020-02-19T09:11:35.108011Z"
        },
        "id": "BRwVWsMdtMBg"
      },
      "source": [
        ""
      ],
      "execution_count": null,
      "outputs": []
    },
    {
      "cell_type": "markdown",
      "metadata": {
        "id": "yGMrnVLctMBg"
      },
      "source": [
        "* Plot HC clusters"
      ]
    },
    {
      "cell_type": "code",
      "metadata": {
        "ExecuteTime": {
          "end_time": "2020-02-19T09:11:35.445109Z",
          "start_time": "2020-02-19T09:11:35.200895Z"
        },
        "id": "_XGbmjYctMBh"
      },
      "source": [
        "#test"
      ],
      "execution_count": null,
      "outputs": []
    },
    {
      "cell_type": "code",
      "metadata": {
        "id": "CGkw8PdctMBh"
      },
      "source": [
        ""
      ],
      "execution_count": null,
      "outputs": []
    },
    {
      "cell_type": "code",
      "metadata": {
        "id": "qjZvHoKZtMBh"
      },
      "source": [
        ""
      ],
      "execution_count": null,
      "outputs": []
    }
  ]
}
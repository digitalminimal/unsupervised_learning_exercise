{
 "cells": [
  {
   "cell_type": "markdown",
   "metadata": {},
   "source": [
    "## Centroid Models Assignment"
   ]
  },
  {
   "cell_type": "code",
   "execution_count": 1,
   "metadata": {
    "ExecuteTime": {
     "end_time": "2020-04-23T18:49:13.019261Z",
     "start_time": "2020-04-23T18:49:11.598033Z"
    }
   },
   "outputs": [
    {
     "data": {
      "image/png": "[encoded data removed]",
      "text/plain": [
       "<Figure size 864x576 with 1 Axes>"
      ]
     },
     "metadata": {
      "needs_background": "light"
     },
     "output_type": "display_data"
    }
   ],
   "source": [
    "import pandas as pd\n",
    "from sklearn.cluster import KMeans\n",
    "import numpy as np\n",
    "import matplotlib.pyplot as plt\n",
    "\n",
    "\n",
    "\n",
    "# Load dataframe\n",
    "df = pd.read_csv('https://raw.githubusercontent.com/lucko515/clustering-python/master/Customer%20in%20Mall%20clusterng/Mall_Customers.csv')\n",
    "\n",
    "\n",
    "def exploredataframe(data):\n",
    "    print(\"\\n===Data Types :=== \\n\" + str(data.dtypes))\n",
    "    print(\"=======================\")\n",
    "    print(\"\\n\\n\\n Data Describe :\\n\" + str(data.describe()))\n",
    "    print(\"=======================\")\n",
    "    # print(\"\\nData is null  \\n\"+str(data.isnull()))\n",
    "    print(\"\\\\n\\n\\n Data is null SUM \\n\" +str( data.isnull().sum())) #looks at the values inside.\n",
    "    print(\"\\n Data is null count \\n\" +str(data.count())) # looks at columns avaiable, doesnt care if i\n",
    "    missing_values = data.isnull().sum().sort_values(ascending=False)\n",
    "    percent_of_missing_values = (data.isnull().sum()/data.isnull().count()).sort_values(ascending=False)\n",
    "    missing_data= pd.concat([missing_values,percent_of_missing_values], axis=1, keys=['Total','Percent'])\n",
    "    print(\"=======================\")\n",
    "    print(\"\\\\n\\n\\n Mising Data \" + str(missing_data.head(20)))\n",
    "    print(\"=======================\")\n",
    "\n",
    "\n",
    "\n",
    "    print(set(df['Genre']))\n",
    "obj_df = df.select_dtypes(include=['object']).copy()\n",
    "newfeature=pd.get_dummies(obj_df, columns=[\"Genre\"])\n",
    "newfeature\n",
    "\n",
    "\n",
    "df=df.drop(['Genre'], axis=1)\n",
    "# print(df)\n",
    "\n",
    "result = pd.concat([df, newfeature], axis=1)\n",
    "result\n",
    "\n",
    "# result=result.drop(['Genre'], axis=1)\n",
    "result=result.drop(['CustomerID'], axis=1)\n",
    "\n",
    "\n",
    "# added bins earlier, but wont be required \n",
    "bins = [0, 25, 35, 45, 55, 65, 100]\n",
    "result['binned'] = pd.cut(result['Age'], bins).astype(str)\n",
    "binned=result.drop(['Age'], axis=1)\n",
    "# print(binned)\n",
    "\n",
    "binned['binned'].unique()\n",
    "\n",
    "\n",
    "# print(binned)\n",
    "\n",
    "# set figure size\n",
    "plt.rcParams[\"figure.figsize\"] = (12,8)\n",
    "\n",
    "# plot clusters\n",
    "plt.scatter(binned.iloc[: , 0],\n",
    "            binned.iloc[: , 1],\n",
    "            c='black',\n",
    "            marker='o')\n",
    "plt.xlabel(\"Annual Income (k$)\"),\n",
    "plt.ylabel(\"Spending Score (1-100)\")\n",
    "plt.grid()\n",
    "plt.show()\n",
    "\n",
    "\n",
    "\n"
   ]
  },
  {
   "cell_type": "markdown",
   "metadata": {},
   "source": [
    "**Take some time to explore the dataframe above.**"
   ]
  },
  {
   "cell_type": "markdown",
   "metadata": {
    "ExecuteTime": {
     "end_time": "2020-02-19T08:33:55.508169Z",
     "start_time": "2020-02-19T08:33:55.504670Z"
    },
    "tags": []
   },
   "source": [
    "----------------------\n",
    "## Objective: \n",
    "#### 1. Fit K-Means, \n",
    "#### 2. Find the optimal number of clusters using the elbow rule and plot the clusters.\n",
    "\n",
    "\n",
    "It may be difficult to visualize clusters on dataframes with many features. To simplify the task, we can plot the clusters in 2-D, by creating a clustering model on the last two columns of the dataset. \n",
    "\n",
    "> **Note:** There are ways to lower the dimension of your data so it can plotted in two dimensions and we will get to those in the beginning of next week.\n",
    "\n",
    "We shouldn't forget to scale the data using some technique from sklearn, even though it's **not a must** in the case because we take only the last two columns, and they have already have similar scale.\n"
   ]
  },
  {
   "cell_type": "code",
   "execution_count": null,
   "metadata": {},
   "outputs": [],
   "source": [
    "#bins not required, so dropping them\n",
    "binned=result.drop(['binned'], axis=1)\n",
    "X = binned.iloc[:, 1:5].values\n",
    "print(\"Type of X \" + str(type(X)))\n",
    "print(\"Passing  \\n\"+str(X))\n",
    "\n",
    "\n",
    "\n",
    "\n",
    "km = KMeans(n_clusters=5,\n",
    "            n_init=10,\n",
    "            random_state=0)\n",
    "\n",
    "y_km = km.fit_predict(X) \n",
    "print(y_km)\n",
    "\n",
    "# y_km = km.fit_predict(binned)\n",
    "\n",
    "#heigh and weight \n",
    "#fit finds the weight of the formula ( fit (coeficient) times values feature + (fit ) bias ( is approximate ) )\n"
   ]
  },
  {
   "cell_type": "code",
   "execution_count": null,
   "metadata": {},
   "outputs": [],
   "source": []
  },
  {
   "cell_type": "markdown",
   "metadata": {},
   "source": [
    "- elbow rule"
   ]
  },
  {
   "cell_type": "code",
   "execution_count": null,
   "metadata": {
    "ExecuteTime": {
     "end_time": "2020-04-23T18:49:14.289468Z",
     "start_time": "2020-04-23T18:49:13.646392Z"
    }
   },
   "outputs": [],
   "source": [
    "def plot_distortion(X,max_clusters = 10):\n",
    "    distortions = []\n",
    "    for i in range(1, max_clusters +1):\n",
    "        km = KMeans(n_clusters=i,\n",
    "                    init='k-means++',\n",
    "                    n_init=10,\n",
    "                    random_state=0)\n",
    "        km.fit(X)\n",
    "        distortions.append(km.inertia_)\n",
    "\n",
    "    plt.plot(range(1,max_clusters +1), distortions, marker='o')\n",
    "    plt.xlabel('Number of clusters')\n",
    "    plt.ylabel('Distortion')\n",
    "    plt.show() \n",
    "\n",
    "    # elbow rule\n",
    "plot_distortion(X,max_clusters=10)"
   ]
  },
  {
   "cell_type": "code",
   "execution_count": null,
   "metadata": {},
   "outputs": [],
   "source": []
  },
  {
   "cell_type": "markdown",
   "metadata": {},
   "source": [
    "* fit model with optimal number of clusters"
   ]
  },
  {
   "cell_type": "code",
   "execution_count": null,
   "metadata": {
    "ExecuteTime": {
     "end_time": "2020-04-23T18:49:14.458083Z",
     "start_time": "2020-04-23T18:49:14.407738Z"
    }
   },
   "outputs": [],
   "source": [
    "#already done previously"
   ]
  },
  {
   "cell_type": "code",
   "execution_count": null,
   "metadata": {},
   "outputs": [],
   "source": []
  },
  {
   "cell_type": "markdown",
   "metadata": {},
   "source": [
    "* define function plot_clusters"
   ]
  },
  {
   "cell_type": "code",
   "execution_count": null,
   "metadata": {
    "ExecuteTime": {
     "end_time": "2020-04-23T18:49:14.521508Z",
     "start_time": "2020-04-23T18:49:14.512112Z"
    }
   },
   "outputs": [],
   "source": [
    "def plot_clusters(X,y_res, plt_cluster_centers = False):\n",
    "    X_centroids = []\n",
    "    Y_centroids = []\n",
    "    #for each cluster in the set of cluster {0, 1, 2, 3, 4}\n",
    "  \n",
    "    for cluster in set(y_res):\n",
    "        # dataframe\n",
    "        x = X[y_res == cluster,0]\n",
    "        y = X[y_res == cluster,1]\n",
    "        print(\"X = In array binned.iloc[:, 1:5].values, for cluster {}, \\n in set(y_res) {}\\n\".format(cluster, set(y_res)) + \" returns this list of len {} \\nList x{}\".format(len(x),x))\n",
    "        print(\"Y = In array binned.iloc[:, 1:5].values, for cluster {}, \\n in set(y_res) {}\\n\".format(cluster, set(y_res)) + \" returns this list of len {} \\nList y{}\".format(len(y),y))\n",
    "        X_centroids.append(np.mean(x))\n",
    "        Y_centroids.append(np.mean(y))\n",
    "\n",
    "        plt.scatter(x,\n",
    "                    y,\n",
    "                    s=50,\n",
    "                    marker='s',\n",
    "                    label=f'cluster {cluster}')\n",
    "\n",
    "    # if plt_cluster_centers:\n",
    "    #     plt.scatter(X_centroids,\n",
    "    #                 Y_centroids,\n",
    "    #                 marker='*',\n",
    "    #                 c='red',\n",
    "    #                 s=250,\n",
    "    #                 label='centroids')\n",
    "    plt.legend()\n",
    "    plt.grid()\n",
    "    plt.show()\n",
    "    \n",
    " # plot clustering result"
   ]
  },
  {
   "cell_type": "code",
   "execution_count": null,
   "metadata": {},
   "outputs": [],
   "source": []
  },
  {
   "cell_type": "markdown",
   "metadata": {},
   "source": [
    "* plot clusters"
   ]
  },
  {
   "cell_type": "code",
   "execution_count": null,
   "metadata": {
    "ExecuteTime": {
     "end_time": "2020-04-23T18:49:14.989930Z",
     "start_time": "2020-04-23T18:49:14.719639Z"
    }
   },
   "outputs": [],
   "source": [
    "\n",
    "\n",
    "x=binned[binned.columns[1:3]]\n",
    "# print(x)\n",
    "# print(y_km)\n",
    "plot_clusters(X,y_km,plt_cluster_centers=True)\n"
   ]
  },
  {
   "cell_type": "code",
   "execution_count": null,
   "metadata": {},
   "outputs": [],
   "source": []
  },
  {
   "cell_type": "code",
   "execution_count": null,
   "metadata": {},
   "outputs": [],
   "source": []
  }
 ],
 "metadata": {
  "kernelspec": {
   "display_name": "Python 3 (ipykernel)",
   "language": "python",
   "name": "python3"
  },
  "language_info": {
   "codemirror_mode": {
    "name": "ipython",
    "version": 3
   },
   "file_extension": ".py",
   "mimetype": "text/x-python",
   "name": "python",
   "nbconvert_exporter": "python",
   "pygments_lexer": "ipython3",
   "version": "3.9.7"
  },
  "toc": {
   "base_numbering": 1,
   "nav_menu": {},
   "number_sections": true,
   "sideBar": true,
   "skip_h1_title": false,
   "title_cell": "Table of Contents",
   "title_sidebar": "Contents",
   "toc_cell": false,
   "toc_position": {},
   "toc_section_display": true,
   "toc_window_display": false
  },
  "varInspector": {
   "cols": {
    "lenName": 16,
    "lenType": 16,
    "lenVar": 40
   },
   "kernels_config": {
    "python": {
     "delete_cmd_postfix": "",
     "delete_cmd_prefix": "del ",
     "library": "var_list.py",
     "varRefreshCmd": "print(var_dic_list())"
    },
    "r": {
     "delete_cmd_postfix": ") ",
     "delete_cmd_prefix": "rm(",
     "library": "var_list.r",
     "varRefreshCmd": "cat(var_dic_list()) "
    }
   },
   "types_to_exclude": [
    "module",
    "function",
    "builtin_function_or_method",
    "instance",
    "_Feature"
   ],
   "window_display": false
  }
 },
 "nbformat": 4,
 "nbformat_minor": 4
}

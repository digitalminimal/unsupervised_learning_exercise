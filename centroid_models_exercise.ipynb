{
  "nbformat": 4,
  "nbformat_minor": 0,
  "metadata": {
    "kernelspec": {
      "display_name": "Python 3 (ipykernel)",
      "language": "python",
      "name": "python3"
    },
    "language_info": {
      "codemirror_mode": {
        "name": "ipython",
        "version": 3
      },
      "file_extension": ".py",
      "mimetype": "text/x-python",
      "name": "python",
      "nbconvert_exporter": "python",
      "pygments_lexer": "ipython3",
      "version": "3.9.7"
    },
    "toc": {
      "base_numbering": 1,
      "nav_menu": {},
      "number_sections": true,
      "sideBar": true,
      "skip_h1_title": false,
      "title_cell": "Table of Contents",
      "title_sidebar": "Contents",
      "toc_cell": false,
      "toc_position": {},
      "toc_section_display": true,
      "toc_window_display": false
    },
    "varInspector": {
      "cols": {
        "lenName": 16,
        "lenType": 16,
        "lenVar": 40
      },
      "kernels_config": {
        "python": {
          "delete_cmd_postfix": "",
          "delete_cmd_prefix": "del ",
          "library": "var_list.py",
          "varRefreshCmd": "print(var_dic_list())"
        },
        "r": {
          "delete_cmd_postfix": ") ",
          "delete_cmd_prefix": "rm(",
          "library": "var_list.r",
          "varRefreshCmd": "cat(var_dic_list()) "
        }
      },
      "types_to_exclude": [
        "module",
        "function",
        "builtin_function_or_method",
        "instance",
        "_Feature"
      ],
      "window_display": false
    },
    "colab": {
      "name": "centroid_models_exercise.ipynb",
      "provenance": []
    }
  },
  "cells": [
    {
      "cell_type": "markdown",
      "metadata": {
        "id": "1AK6k3b3iYw8"
      },
      "source": [
        "## Centroid Models Assignment"
      ]
    },
    {
      "cell_type": "code",
      "metadata": {
        "ExecuteTime": {
          "end_time": "2020-04-23T18:49:13.019261Z",
          "start_time": "2020-04-23T18:49:11.598033Z"
        },
        "id": "V_4d9-EWiYw_",
        "outputId": "cc3aee1d-94b6-4bcc-db4a-306fcd0f4dd2",
        "colab": {
          "base_uri": "https://localhost:8080/",
          "height": 497
        }
      },
      "source": [
        "import pandas as pd\n",
        "from sklearn.cluster import KMeans\n",
        "import numpy as np\n",
        "import matplotlib.pyplot as plt\n",
        "\n",
        "\n",
        "\n",
        "# Load dataframe\n",
        "df = pd.read_csv('https://raw.githubusercontent.com/lucko515/clustering-python/master/Customer%20in%20Mall%20clusterng/Mall_Customers.csv')\n",
        "\n",
        "\n",
        "def exploredataframe(data):\n",
        "    print(\"\\n===Data Types :=== \\n\" + str(data.dtypes))\n",
        "    print(\"=======================\")\n",
        "    print(\"\\n\\n\\n Data Describe :\\n\" + str(data.describe()))\n",
        "    print(\"=======================\")\n",
        "    # print(\"\\nData is null  \\n\"+str(data.isnull()))\n",
        "    print(\"\\\\n\\n\\n Data is null SUM \\n\" +str( data.isnull().sum())) #looks at the values inside.\n",
        "    print(\"\\n Data is null count \\n\" +str(data.count())) # looks at columns avaiable, doesnt care if i\n",
        "    missing_values = data.isnull().sum().sort_values(ascending=False)\n",
        "    percent_of_missing_values = (data.isnull().sum()/data.isnull().count()).sort_values(ascending=False)\n",
        "    missing_data= pd.concat([missing_values,percent_of_missing_values], axis=1, keys=['Total','Percent'])\n",
        "    print(\"=======================\")\n",
        "    print(\"\\\\n\\n\\n Mising Data \" + str(missing_data.head(20)))\n",
        "    print(\"=======================\")\n",
        "\n",
        "\n",
        "\n",
        "    print(set(df['Genre']))\n",
        "obj_df = df.select_dtypes(include=['object']).copy()\n",
        "newfeature=pd.get_dummies(obj_df, columns=[\"Genre\"])\n",
        "newfeature\n",
        "\n",
        "\n",
        "df=df.drop(['Genre'], axis=1)\n",
        "# print(df)\n",
        "\n",
        "result = pd.concat([df, newfeature], axis=1)\n",
        "result\n",
        "\n",
        "# result=result.drop(['Genre'], axis=1)\n",
        "result=result.drop(['CustomerID'], axis=1)\n",
        "\n",
        "\n",
        "# added bins earlier, but wont be required \n",
        "bins = [0, 25, 35, 45, 55, 65, 100]\n",
        "result['binned'] = pd.cut(result['Age'], bins).astype(str)\n",
        "binned=result.drop(['Age'], axis=1)\n",
        "# print(binned)\n",
        "\n",
        "binned['binned'].unique()\n",
        "\n",
        "\n",
        "# print(binned)\n",
        "\n",
        "# set figure size\n",
        "plt.rcParams[\"figure.figsize\"] = (12,8)\n",
        "\n",
        "# plot clusters\n",
        "plt.scatter(binned.iloc[: , 0],\n",
        "            binned.iloc[: , 1],\n",
        "            c='black',\n",
        "            marker='o')\n",
        "plt.xlabel(\"Annual Income (k$)\"),\n",
        "plt.ylabel(\"Spending Score (1-100)\")\n",
        "plt.grid()\n",
        "plt.show()\n",
        "\n",
        "\n",
        "\n"
      ],
      "execution_count": 1,
      "outputs": [
        {
          "output_type": "display_data",
          "data": {
            "image/png": "[encoded data removed]",
            "text/plain": [
              "<Figure size 864x576 with 1 Axes>"
            ]
          },
          "metadata": {
            "needs_background": "light"
          }
        }
      ]
    },
    {
      "cell_type": "markdown",
      "metadata": {
        "id": "Z2UQqBx6iYxA"
      },
      "source": [
        "**Take some time to explore the dataframe above.**"
      ]
    },
    {
      "cell_type": "markdown",
      "metadata": {
        "ExecuteTime": {
          "end_time": "2020-02-19T08:33:55.508169Z",
          "start_time": "2020-02-19T08:33:55.504670Z"
        },
        "tags": [],
        "id": "0t-J2iLeiYxB"
      },
      "source": [
        "----------------------\n",
        "## Objective: \n",
        "#### 1. Fit K-Means, \n",
        "#### 2. Find the optimal number of clusters using the elbow rule and plot the clusters.\n",
        "\n",
        "\n",
        "It may be difficult to visualize clusters on dataframes with many features. To simplify the task, we can plot the clusters in 2-D, by creating a clustering model on the last two columns of the dataset. \n",
        "\n",
        "> **Note:** There are ways to lower the dimension of your data so it can plotted in two dimensions and we will get to those in the beginning of next week.\n",
        "\n",
        "We shouldn't forget to scale the data using some technique from sklearn, even though it's **not a must** in the case because we take only the last two columns, and they have already have similar scale.\n"
      ]
    },
    {
      "cell_type": "code",
      "metadata": {
        "id": "nUU7WCkoiYxB",
        "outputId": "7055e280-65c4-42b1-a3dd-269079d88c4a",
        "colab": {
          "base_uri": "https://localhost:8080/"
        }
      },
      "source": [
        "#bins not required, so dropping them\n",
        "binned=result.drop(['binned'], axis=1)\n",
        "X = binned.iloc[:, 1:5].values\n",
        "print(\"Type of X \" + str(type(X)))\n",
        "print(\"Passing  \\n\"+str(X))\n",
        "\n",
        "\n",
        "\n",
        "\n",
        "km = KMeans(n_clusters=5,\n",
        "            n_init=10,\n",
        "            random_state=0)\n",
        "\n",
        "y_km = km.fit_predict(X) \n",
        "print(y_km)\n",
        "\n",
        "# y_km = km.fit_predict(binned)\n",
        "\n",
        "#heigh and weight \n",
        "#fit finds the weight of the formula ( fit (coeficient) times values feature + (fit ) bias ( is approximate ) )\n"
      ],
      "execution_count": 2,
      "outputs": [
        {
          "output_type": "stream",
          "name": "stdout",
          "text": [
            "Type of X <class 'numpy.ndarray'>\n",
            "Passing  \n",
            "[[ 15  39   0   1]\n",
            " [ 15  81   0   1]\n",
            " [ 16   6   1   0]\n",
            " [ 16  77   1   0]\n",
            " [ 17  40   1   0]\n",
            " [ 17  76   1   0]\n",
            " [ 18   6   1   0]\n",
            " [ 18  94   1   0]\n",
            " [ 19   3   0   1]\n",
            " [ 19  72   1   0]\n",
            " [ 19  14   0   1]\n",
            " [ 19  99   1   0]\n",
            " [ 20  15   1   0]\n",
            " [ 20  77   1   0]\n",
            " [ 20  13   0   1]\n",
            " [ 20  79   0   1]\n",
            " [ 21  35   1   0]\n",
            " [ 21  66   0   1]\n",
            " [ 23  29   0   1]\n",
            " [ 23  98   1   0]\n",
            " [ 24  35   0   1]\n",
            " [ 24  73   0   1]\n",
            " [ 25   5   1   0]\n",
            " [ 25  73   0   1]\n",
            " [ 28  14   1   0]\n",
            " [ 28  82   0   1]\n",
            " [ 28  32   1   0]\n",
            " [ 28  61   0   1]\n",
            " [ 29  31   1   0]\n",
            " [ 29  87   1   0]\n",
            " [ 30   4   0   1]\n",
            " [ 30  73   1   0]\n",
            " [ 33   4   0   1]\n",
            " [ 33  92   0   1]\n",
            " [ 33  14   1   0]\n",
            " [ 33  81   1   0]\n",
            " [ 34  17   1   0]\n",
            " [ 34  73   1   0]\n",
            " [ 37  26   1   0]\n",
            " [ 37  75   1   0]\n",
            " [ 38  35   1   0]\n",
            " [ 38  92   0   1]\n",
            " [ 39  36   0   1]\n",
            " [ 39  61   1   0]\n",
            " [ 39  28   1   0]\n",
            " [ 39  65   1   0]\n",
            " [ 40  55   1   0]\n",
            " [ 40  47   1   0]\n",
            " [ 40  42   1   0]\n",
            " [ 40  42   1   0]\n",
            " [ 42  52   1   0]\n",
            " [ 42  60   0   1]\n",
            " [ 43  54   1   0]\n",
            " [ 43  60   0   1]\n",
            " [ 43  45   1   0]\n",
            " [ 43  41   0   1]\n",
            " [ 44  50   1   0]\n",
            " [ 44  46   0   1]\n",
            " [ 46  51   1   0]\n",
            " [ 46  46   0   1]\n",
            " [ 46  56   0   1]\n",
            " [ 46  55   0   1]\n",
            " [ 47  52   1   0]\n",
            " [ 47  59   1   0]\n",
            " [ 48  51   0   1]\n",
            " [ 48  59   0   1]\n",
            " [ 48  50   1   0]\n",
            " [ 48  48   1   0]\n",
            " [ 48  59   0   1]\n",
            " [ 48  47   1   0]\n",
            " [ 49  55   0   1]\n",
            " [ 49  42   1   0]\n",
            " [ 50  49   1   0]\n",
            " [ 50  56   1   0]\n",
            " [ 54  47   0   1]\n",
            " [ 54  54   0   1]\n",
            " [ 54  53   1   0]\n",
            " [ 54  48   0   1]\n",
            " [ 54  52   1   0]\n",
            " [ 54  42   1   0]\n",
            " [ 54  51   0   1]\n",
            " [ 54  55   0   1]\n",
            " [ 54  41   0   1]\n",
            " [ 54  44   1   0]\n",
            " [ 54  57   1   0]\n",
            " [ 54  46   0   1]\n",
            " [ 57  58   1   0]\n",
            " [ 57  55   1   0]\n",
            " [ 58  60   1   0]\n",
            " [ 58  46   1   0]\n",
            " [ 59  55   1   0]\n",
            " [ 59  41   0   1]\n",
            " [ 60  49   0   1]\n",
            " [ 60  40   1   0]\n",
            " [ 60  42   1   0]\n",
            " [ 60  52   0   1]\n",
            " [ 60  47   1   0]\n",
            " [ 60  50   1   0]\n",
            " [ 61  42   0   1]\n",
            " [ 61  49   0   1]\n",
            " [ 62  41   1   0]\n",
            " [ 62  48   1   0]\n",
            " [ 62  59   0   1]\n",
            " [ 62  55   0   1]\n",
            " [ 62  56   0   1]\n",
            " [ 62  42   1   0]\n",
            " [ 63  50   1   0]\n",
            " [ 63  46   0   1]\n",
            " [ 63  43   0   1]\n",
            " [ 63  48   0   1]\n",
            " [ 63  52   0   1]\n",
            " [ 63  54   1   0]\n",
            " [ 64  42   1   0]\n",
            " [ 64  46   0   1]\n",
            " [ 65  48   1   0]\n",
            " [ 65  50   1   0]\n",
            " [ 65  43   1   0]\n",
            " [ 65  59   1   0]\n",
            " [ 67  43   1   0]\n",
            " [ 67  57   1   0]\n",
            " [ 67  56   0   1]\n",
            " [ 67  40   1   0]\n",
            " [ 69  58   1   0]\n",
            " [ 69  91   0   1]\n",
            " [ 70  29   1   0]\n",
            " [ 70  77   1   0]\n",
            " [ 71  35   0   1]\n",
            " [ 71  95   0   1]\n",
            " [ 71  11   0   1]\n",
            " [ 71  75   0   1]\n",
            " [ 71   9   0   1]\n",
            " [ 71  75   0   1]\n",
            " [ 72  34   1   0]\n",
            " [ 72  71   1   0]\n",
            " [ 73   5   0   1]\n",
            " [ 73  88   1   0]\n",
            " [ 73   7   1   0]\n",
            " [ 73  73   0   1]\n",
            " [ 74  10   0   1]\n",
            " [ 74  72   1   0]\n",
            " [ 75   5   1   0]\n",
            " [ 75  93   0   1]\n",
            " [ 76  40   1   0]\n",
            " [ 76  87   1   0]\n",
            " [ 77  12   0   1]\n",
            " [ 77  97   0   1]\n",
            " [ 77  36   0   1]\n",
            " [ 77  74   1   0]\n",
            " [ 78  22   1   0]\n",
            " [ 78  90   0   1]\n",
            " [ 78  17   0   1]\n",
            " [ 78  88   0   1]\n",
            " [ 78  20   1   0]\n",
            " [ 78  76   1   0]\n",
            " [ 78  16   1   0]\n",
            " [ 78  89   1   0]\n",
            " [ 78   1   0   1]\n",
            " [ 78  78   1   0]\n",
            " [ 78   1   0   1]\n",
            " [ 78  73   1   0]\n",
            " [ 79  35   1   0]\n",
            " [ 79  83   1   0]\n",
            " [ 81   5   0   1]\n",
            " [ 81  93   1   0]\n",
            " [ 85  26   0   1]\n",
            " [ 85  75   1   0]\n",
            " [ 86  20   0   1]\n",
            " [ 86  95   1   0]\n",
            " [ 87  27   1   0]\n",
            " [ 87  63   0   1]\n",
            " [ 87  13   0   1]\n",
            " [ 87  75   0   1]\n",
            " [ 87  10   0   1]\n",
            " [ 87  92   0   1]\n",
            " [ 88  13   1   0]\n",
            " [ 88  86   1   0]\n",
            " [ 88  15   0   1]\n",
            " [ 88  69   0   1]\n",
            " [ 93  14   0   1]\n",
            " [ 93  90   0   1]\n",
            " [ 97  32   1   0]\n",
            " [ 97  86   1   0]\n",
            " [ 98  15   0   1]\n",
            " [ 98  88   1   0]\n",
            " [ 99  39   1   0]\n",
            " [ 99  97   0   1]\n",
            " [101  24   1   0]\n",
            " [101  68   0   1]\n",
            " [103  17   1   0]\n",
            " [103  85   1   0]\n",
            " [103  23   1   0]\n",
            " [103  69   1   0]\n",
            " [113   8   0   1]\n",
            " [113  91   1   0]\n",
            " [120  16   1   0]\n",
            " [120  79   1   0]\n",
            " [126  28   1   0]\n",
            " [126  74   0   1]\n",
            " [137  18   0   1]\n",
            " [137  83   0   1]]\n",
            "[3 1 3 1 3 1 3 1 3 1 3 1 3 1 3 1 3 1 3 1 3 1 3 1 3 1 3 1 3 1 3 1 3 1 3 1 3\n",
            " 1 3 1 3 1 3 0 3 1 0 0 0 0 0 0 0 0 0 0 0 0 0 0 0 0 0 0 0 0 0 0 0 0 0 0 0 0\n",
            " 0 0 0 0 0 0 0 0 0 0 0 0 0 0 0 0 0 0 0 0 0 0 0 0 0 0 0 0 0 0 0 0 0 0 0 0 0\n",
            " 0 0 0 0 0 0 0 0 0 0 0 0 2 4 2 0 2 4 2 4 2 0 2 4 2 4 2 4 2 4 2 0 2 4 2 4 2\n",
            " 4 2 4 2 4 2 4 2 4 2 4 2 4 2 4 2 4 2 4 2 4 2 4 2 4 2 4 2 4 2 4 2 4 2 4 2 4\n",
            " 2 4 2 4 2 4 2 4 2 4 2 4 2 4 2]\n"
          ]
        }
      ]
    },
    {
      "cell_type": "code",
      "metadata": {
        "id": "Xon-QWyviYxB"
      },
      "source": [
        ""
      ],
      "execution_count": 2,
      "outputs": []
    },
    {
      "cell_type": "markdown",
      "metadata": {
        "id": "TR9yQCwPiYxB"
      },
      "source": [
        "- elbow rule"
      ]
    },
    {
      "cell_type": "code",
      "metadata": {
        "ExecuteTime": {
          "end_time": "2020-04-23T18:49:14.289468Z",
          "start_time": "2020-04-23T18:49:13.646392Z"
        },
        "id": "caZUNXQNiYxB",
        "outputId": "7f266f31-08b9-41e0-f4d1-9c7f6e91bb50",
        "colab": {
          "base_uri": "https://localhost:8080/",
          "height": 279
        }
      },
      "source": [
        "def plot_distortion(X,max_clusters = 10):\n",
        "    distortions = []\n",
        "    for i in range(1, max_clusters +1):\n",
        "        km = KMeans(n_clusters=i,\n",
        "                    init='k-means++',\n",
        "                    n_init=10,\n",
        "                    random_state=0)\n",
        "        km.fit(X)\n",
        "        distortions.append(km.inertia_)\n",
        "\n",
        "    plt.plot(range(1,max_clusters +1), distortions, marker='o')\n",
        "    plt.xlabel('Number of clusters')\n",
        "    plt.ylabel('Distortion')\n",
        "    plt.show() \n",
        "\n",
        "    # elbow rule\n",
        "plot_distortion(X,max_clusters=10)"
      ],
      "execution_count": 3,
      "outputs": [
        {
          "output_type": "display_data",
          "data": {
            "image/png": "[encoded data removed]",
            "text/plain": [
              "<Figure size 432x288 with 1 Axes>"
            ]
          },
          "metadata": {
            "needs_background": "light"
          }
        }
      ]
    },
    {
      "cell_type": "code",
      "metadata": {
        "id": "6Zx6URJsiYxC"
      },
      "source": [
        ""
      ],
      "execution_count": 3,
      "outputs": []
    },
    {
      "cell_type": "markdown",
      "metadata": {
        "id": "Z4yQp_ZkiYxC"
      },
      "source": [
        "* fit model with optimal number of clusters"
      ]
    },
    {
      "cell_type": "code",
      "metadata": {
        "ExecuteTime": {
          "end_time": "2020-04-23T18:49:14.458083Z",
          "start_time": "2020-04-23T18:49:14.407738Z"
        },
        "id": "BnEwC-JLiYxC"
      },
      "source": [
        "#already done previously"
      ],
      "execution_count": 4,
      "outputs": []
    },
    {
      "cell_type": "code",
      "metadata": {
        "id": "K1UVN83kiYxC"
      },
      "source": [
        ""
      ],
      "execution_count": 4,
      "outputs": []
    },
    {
      "cell_type": "markdown",
      "metadata": {
        "id": "rvLs88V2iYxC"
      },
      "source": [
        "* define function plot_clusters"
      ]
    },
    {
      "cell_type": "code",
      "metadata": {
        "ExecuteTime": {
          "end_time": "2020-04-23T18:49:14.521508Z",
          "start_time": "2020-04-23T18:49:14.512112Z"
        },
        "id": "8_lXzHpEiYxC"
      },
      "source": [
        "def plot_clusters(X,y_res, plt_cluster_centers = False):\n",
        "    X_centroids = []\n",
        "    Y_centroids = []\n",
        "    #for each cluster in the set of cluster {0, 1, 2, 3, 4}\n",
        "  \n",
        "    for cluster in set(y_res):\n",
        "        # dataframe\n",
        "        x = X[y_res == cluster,0]\n",
        "        y = X[y_res == cluster,1]\n",
        "        print(\"X = In array binned.iloc[:, 1:5].values, for cluster {}, \\n in set(y_res) {}\\n\".format(cluster, set(y_res)) + \" returns this list of len {} \\nList x{}\".format(len(x),x))\n",
        "        print(\"Y = In array binned.iloc[:, 1:5].values, for cluster {}, \\n in set(y_res) {}\\n\".format(cluster, set(y_res)) + \" returns this list of len {} \\nList y{}\".format(len(y),y))\n",
        "        X_centroids.append(np.mean(x))\n",
        "        Y_centroids.append(np.mean(y))\n",
        "\n",
        "        plt.scatter(x,\n",
        "                    y,\n",
        "                    s=50,\n",
        "                    marker='s',\n",
        "                    label=f'cluster {cluster}')\n",
        "\n",
        "    # if plt_cluster_centers:\n",
        "    #     plt.scatter(X_centroids,\n",
        "    #                 Y_centroids,\n",
        "    #                 marker='*',\n",
        "    #                 c='red',\n",
        "    #                 s=250,\n",
        "    #                 label='centroids')\n",
        "    plt.legend()\n",
        "    plt.grid()\n",
        "    plt.show()\n",
        "    \n",
        " # plot clustering result"
      ],
      "execution_count": 5,
      "outputs": []
    },
    {
      "cell_type": "code",
      "metadata": {
        "id": "N7siXjSJiYxD"
      },
      "source": [
        ""
      ],
      "execution_count": 5,
      "outputs": []
    },
    {
      "cell_type": "markdown",
      "metadata": {
        "id": "DF1nXEwgiYxD"
      },
      "source": [
        "* plot clusters"
      ]
    },
    {
      "cell_type": "code",
      "metadata": {
        "ExecuteTime": {
          "end_time": "2020-04-23T18:49:14.989930Z",
          "start_time": "2020-04-23T18:49:14.719639Z"
        },
        "id": "8VDSLi9riYxD",
        "outputId": "db0cf0ed-ea54-4967-da76-04d6a925d259",
        "colab": {
          "base_uri": "https://localhost:8080/",
          "height": 1000
        }
      },
      "source": [
        "\n",
        "\n",
        "x=binned[binned.columns[1:3]]\n",
        "# print(x)\n",
        "# print(y_km)\n",
        "plot_clusters(X,y_km,plt_cluster_centers=True)\n"
      ],
      "execution_count": 6,
      "outputs": [
        {
          "output_type": "stream",
          "name": "stdout",
          "text": [
            "X = In array binned.iloc[:, 1:5].values, for cluster 0, \n",
            " in set(y_res) {0, 1, 2, 3, 4}\n",
            " returns this list of len 81 \n",
            "List x[39 40 40 40 40 42 42 43 43 43 43 44 44 46 46 46 46 47 47 48 48 48 48 48\n",
            " 48 49 49 50 50 54 54 54 54 54 54 54 54 54 54 54 54 57 57 58 58 59 59 60\n",
            " 60 60 60 60 60 61 61 62 62 62 62 62 62 63 63 63 63 63 63 64 64 65 65 65\n",
            " 65 67 67 67 67 69 71 72 76]\n",
            "Y = In array binned.iloc[:, 1:5].values, for cluster 0, \n",
            " in set(y_res) {0, 1, 2, 3, 4}\n",
            " returns this list of len 81 \n",
            "List y[61 55 47 42 42 52 60 54 60 45 41 50 46 51 46 56 55 52 59 51 59 50 48 59\n",
            " 47 55 42 49 56 47 54 53 48 52 42 51 55 41 44 57 46 58 55 60 46 55 41 49\n",
            " 40 42 52 47 50 42 49 41 48 59 55 56 42 50 46 43 48 52 54 42 46 48 50 43\n",
            " 59 43 57 56 40 58 35 34 40]\n",
            "X = In array binned.iloc[:, 1:5].values, for cluster 1, \n",
            " in set(y_res) {0, 1, 2, 3, 4}\n",
            " returns this list of len 22 \n",
            "List x[15 16 17 18 19 19 20 20 21 23 24 25 28 28 29 30 33 33 34 37 38 39]\n",
            "Y = In array binned.iloc[:, 1:5].values, for cluster 1, \n",
            " in set(y_res) {0, 1, 2, 3, 4}\n",
            " returns this list of len 22 \n",
            "List y[81 77 76 94 72 99 77 79 66 98 73 73 82 61 87 73 92 81 73 75 92 65]\n",
            "X = In array binned.iloc[:, 1:5].values, for cluster 2, \n",
            " in set(y_res) {0, 1, 2, 3, 4}\n",
            " returns this list of len 39 \n",
            "List x[ 69  70  71  71  71  72  73  73  74  75  76  77  77  78  78  78  78  78\n",
            "  78  79  81  85  86  87  87  87  88  88  93  97  98  99 101 103 103 113\n",
            " 120 126 137]\n",
            "Y = In array binned.iloc[:, 1:5].values, for cluster 2, \n",
            " in set(y_res) {0, 1, 2, 3, 4}\n",
            " returns this list of len 39 \n",
            "List y[91 77 95 75 75 71 88 73 72 93 87 97 74 90 88 76 89 78 73 83 93 75 95 63\n",
            " 75 92 86 69 90 86 88 97 68 85 69 91 79 74 83]\n",
            "X = In array binned.iloc[:, 1:5].values, for cluster 3, \n",
            " in set(y_res) {0, 1, 2, 3, 4}\n",
            " returns this list of len 23 \n",
            "List x[15 16 17 18 19 19 20 20 21 23 24 25 28 28 29 30 33 33 34 37 38 39 39]\n",
            "Y = In array binned.iloc[:, 1:5].values, for cluster 3, \n",
            " in set(y_res) {0, 1, 2, 3, 4}\n",
            " returns this list of len 23 \n",
            "List y[39  6 40  6  3 14 15 13 35 29 35  5 14 32 31  4  4 14 17 26 35 36 28]\n",
            "X = In array binned.iloc[:, 1:5].values, for cluster 4, \n",
            " in set(y_res) {0, 1, 2, 3, 4}\n",
            " returns this list of len 35 \n",
            "List x[ 70  71  71  73  73  74  75  77  77  78  78  78  78  78  78  79  81  85\n",
            "  86  87  87  87  88  88  93  97  98  99 101 103 103 113 120 126 137]\n",
            "Y = In array binned.iloc[:, 1:5].values, for cluster 4, \n",
            " in set(y_res) {0, 1, 2, 3, 4}\n",
            " returns this list of len 35 \n",
            "List y[29 11  9  5  7 10  5 12 36 22 17 20 16  1  1 35  5 26 20 27 13 10 13 15\n",
            " 14 32 15 39 24 17 23  8 16 28 18]\n"
          ]
        },
        {
          "output_type": "display_data",
          "data": {
            "image/png": "[encoded data removed]",
            "text/plain": [
              "<Figure size 432x288 with 1 Axes>"
            ]
          },
          "metadata": {
            "needs_background": "light"
          }
        }
      ]
    },
    {
      "cell_type": "code",
      "metadata": {
        "id": "0slTmYq6iYxD"
      },
      "source": [
        ""
      ],
      "execution_count": 6,
      "outputs": []
    },
    {
      "cell_type": "code",
      "metadata": {
        "id": "pOFH_tIAiYxD"
      },
      "source": [
        ""
      ],
      "execution_count": 6,
      "outputs": []
    }
  ]
}